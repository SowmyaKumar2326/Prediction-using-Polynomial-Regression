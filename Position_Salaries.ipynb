{
 "cells": [
  {
   "cell_type": "code",
   "execution_count": 1,
   "id": "c55e0e5c",
   "metadata": {},
   "outputs": [],
   "source": [
    "import pandas as pd\n",
    "import matplotlib.pyplot as plt\n",
    "import seaborn as sns\n",
    "%matplotlib inline\n",
    "import os"
   ]
  },
  {
   "cell_type": "code",
   "execution_count": 2,
   "id": "429d3a68",
   "metadata": {},
   "outputs": [
    {
     "data": {
      "text/plain": [
       "'C:\\\\Users\\\\Sowmya Ganesh\\\\Documents'"
      ]
     },
     "execution_count": 2,
     "metadata": {},
     "output_type": "execute_result"
    }
   ],
   "source": [
    "pwd"
   ]
  },
  {
   "cell_type": "code",
   "execution_count": 3,
   "id": "f93b32fd",
   "metadata": {},
   "outputs": [],
   "source": [
    "os.chdir(\"C:/Users/Sowmya Ganesh/Documents\")"
   ]
  },
  {
   "cell_type": "code",
   "execution_count": 4,
   "id": "b933aa19",
   "metadata": {},
   "outputs": [
    {
     "data": {
      "text/plain": [
       "['.ipynb_checkpoints',\n",
       " '1.00 SNS EDA Titanic TILL Logistic regression.ipynb',\n",
       " '50_Startups.csv',\n",
       " '50_Startups.ipynb',\n",
       " 'B89 18_11_2023 Python ML.ipynb',\n",
       " 'B89_Session_lasso_ridge_16_12_2023.ipynb',\n",
       " 'Boxplot_B89_02_12_2023.ipynb',\n",
       " 'Boxplot_ip.png',\n",
       " 'Call Center Data.csv',\n",
       " 'Custom Office Templates',\n",
       " 'Dataset-Opportunity Tracking.xlsx',\n",
       " 'Delivery.xltx',\n",
       " 'Delivery_area.png',\n",
       " 'Delivery_corr.png',\n",
       " 'Delivery_doc.docx',\n",
       " 'Delivery_Graphs',\n",
       " 'Delivery_Project.ipynb',\n",
       " 'Delivery_Regression.png',\n",
       " 'Delivery_scatter.png',\n",
       " 'delivery_time.csv',\n",
       " 'desktop.ini',\n",
       " 'Exercises-1 Solutions.ipynb',\n",
       " 'final_df.csv',\n",
       " 'Heatmap_ip.png',\n",
       " 'iphone_prj5.ipynb',\n",
       " 'iphone_purchase_records.csv',\n",
       " 'KNN_iphone_model.sav',\n",
       " 'KNN_Iphone_Reg_Model.ipynb',\n",
       " 'KNN_Regression_And _Classification.ipynb',\n",
       " 'KNN_Reg_Class.ipynb',\n",
       " 'KNN_Reg_Model.sav',\n",
       " 'KNN_Reg_Model_Saved.ipynb',\n",
       " 'Logistic_regression_and_Decession_Tree.ipynb',\n",
       " 'mpg.csv',\n",
       " 'My Music',\n",
       " 'My Pictures',\n",
       " 'My Tableau Repository',\n",
       " 'My Videos',\n",
       " 'Numpy Pandas.ipynb',\n",
       " 'Pandas PV.ipynb',\n",
       " 'polynomial_reg_b89_26_11_2023.ipynb',\n",
       " 'Position_Salaries.ipynb',\n",
       " 'Position_Salaries.sav',\n",
       " 'Position_Salaries.xlsx',\n",
       " 'Position_Salaries_DataSet.csv',\n",
       " 'Position_Salaries_excel.csv',\n",
       " 'Position_Salaries_excel_polynomial_reg.xltx',\n",
       " 'Position_Salaries_Model.ipynb',\n",
       " 'Python Scripts',\n",
       " 'Salary_Data.csv',\n",
       " 'Salary_Data.xlsx',\n",
       " 'Salary_Data_excel.xlsx',\n",
       " 'Salary_Data_Graphs',\n",
       " 'Salary_hike-Copy1.ipynb',\n",
       " 'Salary_word_doc.docx',\n",
       " 'Simple linear Regression.ipynb',\n",
       " 'Solutions-2.ipynb',\n",
       " 'Startups_graphs',\n",
       " 'Startup_doc.docx',\n",
       " 'Students.csv',\n",
       " 'Superstore 2023.csv',\n",
       " 'Tablaeu_Jupyter.ipynb',\n",
       " 'temp',\n",
       " 'Titanic.ipynb',\n",
       " 'ToyotaCorolla.csv',\n",
       " 'Toyota_corolla.ipynb',\n",
       " 'Toyota_Corolla_Graphs',\n",
       " 'Toyota_doc.docx',\n",
       " 'Untitled.ipynb',\n",
       " 'Zoom']"
      ]
     },
     "execution_count": 4,
     "metadata": {},
     "output_type": "execute_result"
    }
   ],
   "source": [
    "os.listdir()"
   ]
  },
  {
   "cell_type": "code",
   "execution_count": 5,
   "id": "c9d29440",
   "metadata": {
    "scrolled": true
   },
   "outputs": [
    {
     "data": {
      "text/html": [
       "<div>\n",
       "<style scoped>\n",
       "    .dataframe tbody tr th:only-of-type {\n",
       "        vertical-align: middle;\n",
       "    }\n",
       "\n",
       "    .dataframe tbody tr th {\n",
       "        vertical-align: top;\n",
       "    }\n",
       "\n",
       "    .dataframe thead th {\n",
       "        text-align: right;\n",
       "    }\n",
       "</style>\n",
       "<table border=\"1\" class=\"dataframe\">\n",
       "  <thead>\n",
       "    <tr style=\"text-align: right;\">\n",
       "      <th></th>\n",
       "      <th>Position</th>\n",
       "      <th>Level</th>\n",
       "      <th>Salary</th>\n",
       "    </tr>\n",
       "  </thead>\n",
       "  <tbody>\n",
       "    <tr>\n",
       "      <th>0</th>\n",
       "      <td>Business Analyst</td>\n",
       "      <td>1</td>\n",
       "      <td>45000</td>\n",
       "    </tr>\n",
       "    <tr>\n",
       "      <th>1</th>\n",
       "      <td>Junior Consultant</td>\n",
       "      <td>2</td>\n",
       "      <td>50000</td>\n",
       "    </tr>\n",
       "    <tr>\n",
       "      <th>2</th>\n",
       "      <td>Senior Consultant</td>\n",
       "      <td>3</td>\n",
       "      <td>60000</td>\n",
       "    </tr>\n",
       "    <tr>\n",
       "      <th>3</th>\n",
       "      <td>Manager</td>\n",
       "      <td>4</td>\n",
       "      <td>80000</td>\n",
       "    </tr>\n",
       "    <tr>\n",
       "      <th>4</th>\n",
       "      <td>Country Manager</td>\n",
       "      <td>5</td>\n",
       "      <td>110000</td>\n",
       "    </tr>\n",
       "    <tr>\n",
       "      <th>5</th>\n",
       "      <td>Region Manager</td>\n",
       "      <td>6</td>\n",
       "      <td>150000</td>\n",
       "    </tr>\n",
       "    <tr>\n",
       "      <th>6</th>\n",
       "      <td>Partner</td>\n",
       "      <td>7</td>\n",
       "      <td>200000</td>\n",
       "    </tr>\n",
       "    <tr>\n",
       "      <th>7</th>\n",
       "      <td>Senior Partner</td>\n",
       "      <td>8</td>\n",
       "      <td>300000</td>\n",
       "    </tr>\n",
       "    <tr>\n",
       "      <th>8</th>\n",
       "      <td>C-level</td>\n",
       "      <td>9</td>\n",
       "      <td>500000</td>\n",
       "    </tr>\n",
       "    <tr>\n",
       "      <th>9</th>\n",
       "      <td>CEO</td>\n",
       "      <td>10</td>\n",
       "      <td>1000000</td>\n",
       "    </tr>\n",
       "  </tbody>\n",
       "</table>\n",
       "</div>"
      ],
      "text/plain": [
       "            Position  Level   Salary\n",
       "0   Business Analyst      1    45000\n",
       "1  Junior Consultant      2    50000\n",
       "2  Senior Consultant      3    60000\n",
       "3            Manager      4    80000\n",
       "4    Country Manager      5   110000\n",
       "5     Region Manager      6   150000\n",
       "6            Partner      7   200000\n",
       "7     Senior Partner      8   300000\n",
       "8            C-level      9   500000\n",
       "9                CEO     10  1000000"
      ]
     },
     "execution_count": 5,
     "metadata": {},
     "output_type": "execute_result"
    }
   ],
   "source": [
    "data=pd.read_csv(\"C:/Users/Sowmya Ganesh/Documents/Position_Salaries_DataSet.csv\")\n",
    "data"
   ]
  },
  {
   "cell_type": "code",
   "execution_count": 6,
   "id": "b82da0f6",
   "metadata": {},
   "outputs": [],
   "source": [
    "#creating Data copy\n",
    "df=data.copy()"
   ]
  },
  {
   "cell_type": "markdown",
   "id": "436e5e2d",
   "metadata": {},
   "source": [
    "### Basic Information Check"
   ]
  },
  {
   "cell_type": "code",
   "execution_count": 7,
   "id": "3f3a7a10",
   "metadata": {},
   "outputs": [
    {
     "name": "stdout",
     "output_type": "stream",
     "text": [
      "<class 'pandas.core.frame.DataFrame'>\n",
      "RangeIndex: 10 entries, 0 to 9\n",
      "Data columns (total 3 columns):\n",
      " #   Column    Non-Null Count  Dtype \n",
      "---  ------    --------------  ----- \n",
      " 0   Position  10 non-null     object\n",
      " 1   Level     10 non-null     int64 \n",
      " 2   Salary    10 non-null     int64 \n",
      "dtypes: int64(2), object(1)\n",
      "memory usage: 372.0+ bytes\n"
     ]
    }
   ],
   "source": [
    "df.info()"
   ]
  },
  {
   "cell_type": "code",
   "execution_count": 8,
   "id": "3564761c",
   "metadata": {},
   "outputs": [],
   "source": [
    "#There are three columns Position,Level and Salary.\n",
    "#No null values are found,so no need to do the changes in the dataframe."
   ]
  },
  {
   "cell_type": "code",
   "execution_count": 9,
   "id": "f4a9d9bf",
   "metadata": {},
   "outputs": [
    {
     "data": {
      "text/html": [
       "<div>\n",
       "<style scoped>\n",
       "    .dataframe tbody tr th:only-of-type {\n",
       "        vertical-align: middle;\n",
       "    }\n",
       "\n",
       "    .dataframe tbody tr th {\n",
       "        vertical-align: top;\n",
       "    }\n",
       "\n",
       "    .dataframe thead th {\n",
       "        text-align: right;\n",
       "    }\n",
       "</style>\n",
       "<table border=\"1\" class=\"dataframe\">\n",
       "  <thead>\n",
       "    <tr style=\"text-align: right;\">\n",
       "      <th></th>\n",
       "      <th>count</th>\n",
       "      <th>mean</th>\n",
       "      <th>std</th>\n",
       "      <th>min</th>\n",
       "      <th>25%</th>\n",
       "      <th>50%</th>\n",
       "      <th>75%</th>\n",
       "      <th>max</th>\n",
       "    </tr>\n",
       "  </thead>\n",
       "  <tbody>\n",
       "    <tr>\n",
       "      <th>Level</th>\n",
       "      <td>10.0</td>\n",
       "      <td>5.5</td>\n",
       "      <td>3.027650</td>\n",
       "      <td>1.0</td>\n",
       "      <td>3.25</td>\n",
       "      <td>5.5</td>\n",
       "      <td>7.75</td>\n",
       "      <td>10.0</td>\n",
       "    </tr>\n",
       "    <tr>\n",
       "      <th>Salary</th>\n",
       "      <td>10.0</td>\n",
       "      <td>249500.0</td>\n",
       "      <td>299373.883668</td>\n",
       "      <td>45000.0</td>\n",
       "      <td>65000.00</td>\n",
       "      <td>130000.0</td>\n",
       "      <td>275000.00</td>\n",
       "      <td>1000000.0</td>\n",
       "    </tr>\n",
       "  </tbody>\n",
       "</table>\n",
       "</div>"
      ],
      "text/plain": [
       "        count      mean            std      min       25%       50%  \\\n",
       "Level    10.0       5.5       3.027650      1.0      3.25       5.5   \n",
       "Salary   10.0  249500.0  299373.883668  45000.0  65000.00  130000.0   \n",
       "\n",
       "              75%        max  \n",
       "Level        7.75       10.0  \n",
       "Salary  275000.00  1000000.0  "
      ]
     },
     "execution_count": 9,
     "metadata": {},
     "output_type": "execute_result"
    }
   ],
   "source": [
    "df.describe().T"
   ]
  },
  {
   "cell_type": "code",
   "execution_count": 10,
   "id": "e44463ba",
   "metadata": {},
   "outputs": [
    {
     "data": {
      "text/plain": [
       "(10, 3)"
      ]
     },
     "execution_count": 10,
     "metadata": {},
     "output_type": "execute_result"
    }
   ],
   "source": [
    "df.shape"
   ]
  },
  {
   "cell_type": "markdown",
   "id": "cb1601b2",
   "metadata": {},
   "source": [
    "## Exploratory Data Analysis(EDA)"
   ]
  },
  {
   "cell_type": "code",
   "execution_count": 11,
   "id": "d42b194b",
   "metadata": {},
   "outputs": [
    {
     "data": {
      "text/plain": [
       "<Axes: xlabel='Salary', ylabel='Level'>"
      ]
     },
     "execution_count": 11,
     "metadata": {},
     "output_type": "execute_result"
    },
    {
     "data": {
      "image/png": "[encoded data removed]",
      "text/plain": [
       "<Figure size 640x480 with 1 Axes>"
      ]
     },
     "metadata": {},
     "output_type": "display_data"
    }
   ],
   "source": [
    "sns.scatterplot(data=df,x=\"Salary\",y=\"Level\",s=200,legend=True,hue=\"Position\")"
   ]
  },
  {
   "cell_type": "code",
   "execution_count": 12,
   "id": "aa32c1e2",
   "metadata": {},
   "outputs": [
    {
     "data": {
      "text/plain": [
       "<Axes: xlabel='Position', ylabel='Salary'>"
      ]
     },
     "execution_count": 12,
     "metadata": {},
     "output_type": "execute_result"
    },
    {
     "data": {
      "image/png": "[encoded data removed]",
      "text/plain": [
       "<Figure size 640x480 with 1 Axes>"
      ]
     },
     "metadata": {},
     "output_type": "display_data"
    }
   ],
   "source": [
    "sns.barplot(data=df,x=\"Position\",y=\"Salary\",orient=\"vertical\",width=0.6)"
   ]
  },
  {
   "cell_type": "code",
   "execution_count": 13,
   "id": "1d6e98dd",
   "metadata": {},
   "outputs": [
    {
     "data": {
      "text/plain": [
       "<Axes: >"
      ]
     },
     "execution_count": 13,
     "metadata": {},
     "output_type": "execute_result"
    },
    {
     "data": {
      "image/png": "[encoded data removed]",
      "text/plain": [
       "<Figure size 640x480 with 1 Axes>"
      ]
     },
     "metadata": {},
     "output_type": "display_data"
    }
   ],
   "source": [
    "df[[\"Position\",\"Salary\"]].plot(kind=\"box\",legend=True)"
   ]
  },
  {
   "cell_type": "code",
   "execution_count": 14,
   "id": "e4d7e25d",
   "metadata": {},
   "outputs": [
    {
     "data": {
      "text/plain": [
       "<Axes: >"
      ]
     },
     "execution_count": 14,
     "metadata": {},
     "output_type": "execute_result"
    },
    {
     "data": {
      "image/png": "[encoded data removed]",
      "text/plain": [
       "<Figure size 640x480 with 2 Axes>"
      ]
     },
     "metadata": {},
     "output_type": "display_data"
    }
   ],
   "source": [
    "sns.heatmap(df[[\"Level\",\"Salary\"]].corr(),annot=True,cmap='RdBu',cbar=True)\n",
    "#sns.heatmap(salary_hike[['YearsExperience','Salary']].corr(),annot=True,cmap='RdBu',cbar=True)"
   ]
  },
  {
   "cell_type": "code",
   "execution_count": 15,
   "id": "6da6d41c",
   "metadata": {},
   "outputs": [],
   "source": [
    "#No need to impute the outliers.\n",
    "#Takeaways from the EDA. \n",
    "#Salary increases as the Position Insreases.\n",
    "#The correlation between Salary and level is high."
   ]
  },
  {
   "cell_type": "markdown",
   "id": "527737b8",
   "metadata": {},
   "source": [
    "## Creating the linear Model"
   ]
  },
  {
   "cell_type": "code",
   "execution_count": 16,
   "id": "d21f6d9d",
   "metadata": {},
   "outputs": [],
   "source": [
    "#The Salary is dependent variable and Position and Level are independent variables."
   ]
  },
  {
   "cell_type": "code",
   "execution_count": 17,
   "id": "1ce0b652",
   "metadata": {},
   "outputs": [],
   "source": [
    "from sklearn.model_selection import train_test_split\n",
    "from sklearn.linear_model import LinearRegression\n",
    "from sklearn.metrics import r2_score,mean_squared_error\n",
    "from math import sqrt"
   ]
  },
  {
   "cell_type": "code",
   "execution_count": 18,
   "id": "317bb2c4",
   "metadata": {},
   "outputs": [],
   "source": [
    "x=df['Level'].values.reshape(-1,1)"
   ]
  },
  {
   "cell_type": "code",
   "execution_count": 19,
   "id": "a74eeafd",
   "metadata": {},
   "outputs": [],
   "source": [
    "y=df['Salary'].values.reshape(-1,1)"
   ]
  },
  {
   "cell_type": "code",
   "execution_count": 20,
   "id": "1201eeff",
   "metadata": {},
   "outputs": [
    {
     "name": "stdout",
     "output_type": "stream",
     "text": [
      "The model is completed\n"
     ]
    }
   ],
   "source": [
    "lin= LinearRegression()\n",
    "print(\"The model is completed\")"
   ]
  },
  {
   "cell_type": "code",
   "execution_count": 21,
   "id": "4879f335",
   "metadata": {},
   "outputs": [
    {
     "name": "stdout",
     "output_type": "stream",
     "text": [
      "Training Completed\n"
     ]
    }
   ],
   "source": [
    "lin.fit(x,y)\n",
    "print(\"Training Completed\")"
   ]
  },
  {
   "cell_type": "code",
   "execution_count": 22,
   "id": "897e8b8b",
   "metadata": {},
   "outputs": [
    {
     "data": {
      "text/plain": [
       "[<matplotlib.lines.Line2D at 0x299274f5e90>]"
      ]
     },
     "execution_count": 22,
     "metadata": {},
     "output_type": "execute_result"
    },
    {
     "data": {
      "image/png": "[encoded data removed]",
      "text/plain": [
       "<Figure size 500x300 with 1 Axes>"
      ]
     },
     "metadata": {},
     "output_type": "display_data"
    }
   ],
   "source": [
    "plt.figure(figsize=(5,3))\n",
    "plt.scatter(x,y,color=\"green\")\n",
    "plt.plot(x,lin.predict(x),color=\"black\")"
   ]
  },
  {
   "cell_type": "code",
   "execution_count": 23,
   "id": "cd648abd",
   "metadata": {},
   "outputs": [],
   "source": [
    "### The actual points are deviated or far away from the predicted line.\n",
    "### We need to fit the line through the points\n",
    "### Creating a Polynomial Regression with degree 4 to get more accuracy "
   ]
  },
  {
   "cell_type": "markdown",
   "id": "c01898e5",
   "metadata": {},
   "source": [
    "### Polynomial Regression"
   ]
  },
  {
   "cell_type": "code",
   "execution_count": 24,
   "id": "0614de66",
   "metadata": {},
   "outputs": [],
   "source": [
    "from sklearn.preprocessing import PolynomialFeatures"
   ]
  },
  {
   "cell_type": "code",
   "execution_count": 25,
   "id": "6b8d47eb",
   "metadata": {},
   "outputs": [
    {
     "name": "stdout",
     "output_type": "stream",
     "text": [
      "Loaded the polynomial features.\n"
     ]
    }
   ],
   "source": [
    "poly = PolynomialFeatures(degree = 4)\n",
    "print(\"Loaded the polynomial features.\")"
   ]
  },
  {
   "cell_type": "code",
   "execution_count": 26,
   "id": "47e119b0",
   "metadata": {},
   "outputs": [
    {
     "data": {
      "text/plain": [
       "array([[ 1],\n",
       "       [ 2],\n",
       "       [ 3],\n",
       "       [ 4],\n",
       "       [ 5],\n",
       "       [ 6],\n",
       "       [ 7],\n",
       "       [ 8],\n",
       "       [ 9],\n",
       "       [10]], dtype=int64)"
      ]
     },
     "execution_count": 26,
     "metadata": {},
     "output_type": "execute_result"
    }
   ],
   "source": [
    "x"
   ]
  },
  {
   "cell_type": "code",
   "execution_count": 27,
   "id": "bba6aa4b",
   "metadata": {},
   "outputs": [
    {
     "data": {
      "text/plain": [
       "array([[1.000e+00, 1.000e+00, 1.000e+00, 1.000e+00, 1.000e+00],\n",
       "       [1.000e+00, 2.000e+00, 4.000e+00, 8.000e+00, 1.600e+01],\n",
       "       [1.000e+00, 3.000e+00, 9.000e+00, 2.700e+01, 8.100e+01],\n",
       "       [1.000e+00, 4.000e+00, 1.600e+01, 6.400e+01, 2.560e+02],\n",
       "       [1.000e+00, 5.000e+00, 2.500e+01, 1.250e+02, 6.250e+02],\n",
       "       [1.000e+00, 6.000e+00, 3.600e+01, 2.160e+02, 1.296e+03],\n",
       "       [1.000e+00, 7.000e+00, 4.900e+01, 3.430e+02, 2.401e+03],\n",
       "       [1.000e+00, 8.000e+00, 6.400e+01, 5.120e+02, 4.096e+03],\n",
       "       [1.000e+00, 9.000e+00, 8.100e+01, 7.290e+02, 6.561e+03],\n",
       "       [1.000e+00, 1.000e+01, 1.000e+02, 1.000e+03, 1.000e+04]])"
      ]
     },
     "execution_count": 27,
     "metadata": {},
     "output_type": "execute_result"
    }
   ],
   "source": [
    "x_poly = poly.fit_transform(x)\n",
    "x_poly"
   ]
  },
  {
   "cell_type": "code",
   "execution_count": 28,
   "id": "2bbce623",
   "metadata": {},
   "outputs": [
    {
     "name": "stdout",
     "output_type": "stream",
     "text": [
      "Polynomial Feature is fitted and Trained\n"
     ]
    }
   ],
   "source": [
    "poly.fit(x_poly,y)\n",
    "print(\"Polynomial Feature is fitted and Trained\")"
   ]
  },
  {
   "cell_type": "code",
   "execution_count": 29,
   "id": "90375dc2",
   "metadata": {},
   "outputs": [],
   "source": [
    "linear = LinearRegression()"
   ]
  },
  {
   "cell_type": "code",
   "execution_count": 30,
   "id": "c0c959ec",
   "metadata": {},
   "outputs": [
    {
     "name": "stdout",
     "output_type": "stream",
     "text": [
      "Model is trained using polynomial features.\n"
     ]
    }
   ],
   "source": [
    "linear.fit(x_poly,y)\n",
    "print(\"Model is trained using polynomial features.\")"
   ]
  },
  {
   "cell_type": "code",
   "execution_count": 31,
   "id": "db5ec9cb",
   "metadata": {},
   "outputs": [
    {
     "data": {
      "text/plain": [
       "[<matplotlib.lines.Line2D at 0x2992750c990>]"
      ]
     },
     "execution_count": 31,
     "metadata": {},
     "output_type": "execute_result"
    },
    {
     "data": {
      "image/png": "[encoded data removed]",
      "text/plain": [
       "<Figure size 500x300 with 1 Axes>"
      ]
     },
     "metadata": {},
     "output_type": "display_data"
    }
   ],
   "source": [
    "plt.figure(figsize=(5,3))\n",
    "plt.scatter(x,y,color=\"green\")\n",
    "plt.plot(x,linear.predict(x_poly), color = \"black\")"
   ]
  },
  {
   "cell_type": "code",
   "execution_count": 32,
   "id": "f5e14c24",
   "metadata": {},
   "outputs": [
    {
     "name": "stdout",
     "output_type": "stream",
     "text": [
      "The R2_score or Co-efficient of determination of Linear Model is: 0.67\n",
      "The accuracy of this model is: 66.9 %\n"
     ]
    }
   ],
   "source": [
    "R2=r2_score(y,lin.predict(x))\n",
    "print(\"The R2_score or Co-efficient of determination of Linear Model is:\",round(R2,2))\n",
    "print(\"The accuracy of this model is:\",round(R2*100,2),\"%\")"
   ]
  },
  {
   "cell_type": "code",
   "execution_count": 33,
   "id": "10fa1d3b",
   "metadata": {},
   "outputs": [],
   "source": [
    "### The r2_score is not as expected in linear regression.\n",
    "### Checking with the polynomial regression."
   ]
  },
  {
   "cell_type": "code",
   "execution_count": 38,
   "id": "fe29408b",
   "metadata": {},
   "outputs": [
    {
     "name": "stdout",
     "output_type": "stream",
     "text": [
      "The R2_Score or Co-efficient of Determonation of Polynomial Regression model is: 0.997\n",
      "The accuracy of the model is: 99.74 %\n"
     ]
    }
   ],
   "source": [
    "r2=r2_score(y,linear.predict(x_poly))\n",
    "print(\"The R2_Score or Co-efficient of Determonation of Polynomial Regression model is:\",round(r2,3))\n",
    "print(\"The accuracy of the model is:\",round(r2*100,2),\"%\")"
   ]
  },
  {
   "cell_type": "code",
   "execution_count": 39,
   "id": "2f5688fe",
   "metadata": {},
   "outputs": [],
   "source": [
    "### The r2_score with polynomial regression is so accurate with 4th degree as 99.74%.\n",
    "### The r2_score required for a great model as 99.74%."
   ]
  },
  {
   "cell_type": "code",
   "execution_count": 37,
   "id": "b7bf1235",
   "metadata": {},
   "outputs": [
    {
     "name": "stdout",
     "output_type": "stream",
     "text": [
      "The Polynomial Regression model is saved.\n"
     ]
    }
   ],
   "source": [
    "## To save the created model\n",
    "import joblib\n",
    "joblib.dump(linear,'Position_Salaries.sav')\n",
    "print(\"The Polynomial Regression model is saved.\")"
   ]
  }
 ],
 "metadata": {
  "kernelspec": {
   "display_name": "Python 3 (ipykernel)",
   "language": "python",
   "name": "python3"
  },
  "language_info": {
   "codemirror_mode": {
    "name": "ipython",
    "version": 3
   },
   "file_extension": ".py",
   "mimetype": "text/x-python",
   "name": "python",
   "nbconvert_exporter": "python",
   "pygments_lexer": "ipython3",
   "version": "3.11.5"
  }
 },
 "nbformat": 4,
 "nbformat_minor": 5
}
