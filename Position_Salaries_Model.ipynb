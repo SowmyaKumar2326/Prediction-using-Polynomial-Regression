{
 "cells": [
  {
   "cell_type": "code",
   "execution_count": 1,
   "id": "35417801",
   "metadata": {},
   "outputs": [],
   "source": [
    "import  joblib\n",
    "import pandas as pd"
   ]
  },
  {
   "cell_type": "code",
   "execution_count": 2,
   "id": "540f8ed2",
   "metadata": {},
   "outputs": [],
   "source": [
    "file_name =  'Position_Salaries.sav'\n",
    "sav_model = joblib.load(file_name)"
   ]
  },
  {
   "cell_type": "code",
   "execution_count": 3,
   "id": "3453d71f",
   "metadata": {},
   "outputs": [
    {
     "data": {
      "text/html": [
       "<div>\n",
       "<style scoped>\n",
       "    .dataframe tbody tr th:only-of-type {\n",
       "        vertical-align: middle;\n",
       "    }\n",
       "\n",
       "    .dataframe tbody tr th {\n",
       "        vertical-align: top;\n",
       "    }\n",
       "\n",
       "    .dataframe thead th {\n",
       "        text-align: right;\n",
       "    }\n",
       "</style>\n",
       "<table border=\"1\" class=\"dataframe\">\n",
       "  <thead>\n",
       "    <tr style=\"text-align: right;\">\n",
       "      <th></th>\n",
       "      <th>Level</th>\n",
       "      <th>Level1</th>\n",
       "      <th>Level2</th>\n",
       "      <th>Level3</th>\n",
       "      <th>Level4</th>\n",
       "    </tr>\n",
       "  </thead>\n",
       "  <tbody>\n",
       "    <tr>\n",
       "      <th>0</th>\n",
       "      <td>1</td>\n",
       "      <td>6</td>\n",
       "      <td>36</td>\n",
       "      <td>216</td>\n",
       "      <td>1296</td>\n",
       "    </tr>\n",
       "    <tr>\n",
       "      <th>1</th>\n",
       "      <td>1</td>\n",
       "      <td>8</td>\n",
       "      <td>64</td>\n",
       "      <td>512</td>\n",
       "      <td>4096</td>\n",
       "    </tr>\n",
       "  </tbody>\n",
       "</table>\n",
       "</div>"
      ],
      "text/plain": [
       "   Level  Level1  Level2  Level3  Level4\n",
       "0      1       6      36     216    1296\n",
       "1      1       8      64     512    4096"
      ]
     },
     "execution_count": 3,
     "metadata": {},
     "output_type": "execute_result"
    }
   ],
   "source": [
    "level=[1,1]\n",
    "level1 = [6,8]\n",
    "level2 =[36,64]\n",
    "level3 = [216,512]\n",
    "level4 = [1296,4096]\n",
    "\n",
    "raw_data = pd.DataFrame({'Level':level,'Level1':level1,'Level2':level2,'Level3':level3,'Level4':level4})\n",
    "raw_data"
   ]
  },
  {
   "cell_type": "code",
   "execution_count": 4,
   "id": "e5a57cb5",
   "metadata": {},
   "outputs": [
    {
     "name": "stdout",
     "output_type": "stream",
     "text": [
      "The predicted Salary for Level 6 and 8 is:\n"
     ]
    },
    {
     "data": {
      "text/plain": [
       "array([[143275.05827508],\n",
       "       [289994.17249411]])"
      ]
     },
     "execution_count": 4,
     "metadata": {},
     "output_type": "execute_result"
    }
   ],
   "source": [
    "print(\"The predicted Salary for Level 6 and 8 is:\")\n",
    "import warnings\n",
    "warnings.filterwarnings(\"ignore\")\n",
    "sav_model.predict(raw_data)"
   ]
  },
  {
   "cell_type": "code",
   "execution_count": null,
   "id": "3b7747a0",
   "metadata": {},
   "outputs": [],
   "source": []
  },
  {
   "cell_type": "code",
   "execution_count": null,
   "id": "c044bf52",
   "metadata": {},
   "outputs": [],
   "source": []
  },
  {
   "cell_type": "code",
   "execution_count": null,
   "id": "4e858c0d",
   "metadata": {},
   "outputs": [],
   "source": []
  }
 ],
 "metadata": {
  "kernelspec": {
   "display_name": "Python 3 (ipykernel)",
   "language": "python",
   "name": "python3"
  },
  "language_info": {
   "codemirror_mode": {
    "name": "ipython",
    "version": 3
   },
   "file_extension": ".py",
   "mimetype": "text/x-python",
   "name": "python",
   "nbconvert_exporter": "python",
   "pygments_lexer": "ipython3",
   "version": "3.11.5"
  }
 },
 "nbformat": 4,
 "nbformat_minor": 5
}
